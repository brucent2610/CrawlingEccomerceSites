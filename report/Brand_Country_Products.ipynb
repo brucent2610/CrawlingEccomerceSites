{
 "cells": [
  {
   "cell_type": "code",
   "execution_count": 17,
   "id": "60ecafde",
   "metadata": {},
   "outputs": [],
   "source": [
    "import matplotlib\n",
    "import matplotlib.pyplot as plt\n",
    "import numpy as np\n",
    "import pandas as pd\n",
    "import matplotlib as mpl\n",
    "\n",
    "plt.ion()\n",
    "matplotlib.is_interactive()\n",
    "mpl.rcParams['figure.figsize'] = (20, 10)\n",
    "mpl.rcParams['font.size'] = 15.0"
   ]
  },
  {
   "cell_type": "code",
   "execution_count": 18,
   "id": "732cadfc",
   "metadata": {},
   "outputs": [],
   "source": [
    "data = pd.read_csv(\"./data/brand_countries_count.csv\")"
   ]
  },
  {
   "cell_type": "code",
   "execution_count": 19,
   "id": "143a8633",
   "metadata": {},
   "outputs": [
    {
     "data": {
      "text/html": [
       "<div>\n",
       "<style scoped>\n",
       "    .dataframe tbody tr th:only-of-type {\n",
       "        vertical-align: middle;\n",
       "    }\n",
       "\n",
       "    .dataframe tbody tr th {\n",
       "        vertical-align: top;\n",
       "    }\n",
       "\n",
       "    .dataframe thead th {\n",
       "        text-align: right;\n",
       "    }\n",
       "</style>\n",
       "<table border=\"1\" class=\"dataframe\">\n",
       "  <thead>\n",
       "    <tr style=\"text-align: right;\">\n",
       "      <th></th>\n",
       "      <th>_id</th>\n",
       "      <th>count</th>\n",
       "    </tr>\n",
       "  </thead>\n",
       "  <tbody>\n",
       "    <tr>\n",
       "      <th>60</th>\n",
       "      <td>Việt Nam</td>\n",
       "      <td>715352</td>\n",
       "    </tr>\n",
       "    <tr>\n",
       "      <th>85</th>\n",
       "      <td>China</td>\n",
       "      <td>167519</td>\n",
       "    </tr>\n",
       "    <tr>\n",
       "      <th>93</th>\n",
       "      <td>Trung Quốc</td>\n",
       "      <td>135841</td>\n",
       "    </tr>\n",
       "    <tr>\n",
       "      <th>48</th>\n",
       "      <td>Nhật Bản</td>\n",
       "      <td>31929</td>\n",
       "    </tr>\n",
       "    <tr>\n",
       "      <th>3</th>\n",
       "      <td>Hàn Quốc</td>\n",
       "      <td>25836</td>\n",
       "    </tr>\n",
       "    <tr>\n",
       "      <th>59</th>\n",
       "      <td>Mỹ</td>\n",
       "      <td>22761</td>\n",
       "    </tr>\n",
       "    <tr>\n",
       "      <th>29</th>\n",
       "      <td>Đài Loan</td>\n",
       "      <td>12499</td>\n",
       "    </tr>\n",
       "    <tr>\n",
       "      <th>62</th>\n",
       "      <td>Đức</td>\n",
       "      <td>11524</td>\n",
       "    </tr>\n",
       "    <tr>\n",
       "      <th>26</th>\n",
       "      <td>Hong Kong</td>\n",
       "      <td>9324</td>\n",
       "    </tr>\n",
       "    <tr>\n",
       "      <th>21</th>\n",
       "      <td>Thái Lan</td>\n",
       "      <td>9018</td>\n",
       "    </tr>\n",
       "    <tr>\n",
       "      <th>89</th>\n",
       "      <td>Pháp</td>\n",
       "      <td>6129</td>\n",
       "    </tr>\n",
       "    <tr>\n",
       "      <th>56</th>\n",
       "      <td>Anh</td>\n",
       "      <td>4700</td>\n",
       "    </tr>\n",
       "    <tr>\n",
       "      <th>78</th>\n",
       "      <td>Ý</td>\n",
       "      <td>4096</td>\n",
       "    </tr>\n",
       "    <tr>\n",
       "      <th>34</th>\n",
       "      <td>Thụy Sỹ</td>\n",
       "      <td>2978</td>\n",
       "    </tr>\n",
       "    <tr>\n",
       "      <th>39</th>\n",
       "      <td>Úc</td>\n",
       "      <td>2696</td>\n",
       "    </tr>\n",
       "    <tr>\n",
       "      <th>55</th>\n",
       "      <td>Malaysia</td>\n",
       "      <td>2451</td>\n",
       "    </tr>\n",
       "    <tr>\n",
       "      <th>65</th>\n",
       "      <td>Tây Ban Nha</td>\n",
       "      <td>2350</td>\n",
       "    </tr>\n",
       "    <tr>\n",
       "      <th>1</th>\n",
       "      <td>USA</td>\n",
       "      <td>2192</td>\n",
       "    </tr>\n",
       "    <tr>\n",
       "      <th>50</th>\n",
       "      <td>Singapore</td>\n",
       "      <td>2183</td>\n",
       "    </tr>\n",
       "    <tr>\n",
       "      <th>63</th>\n",
       "      <td>Italia</td>\n",
       "      <td>1904</td>\n",
       "    </tr>\n",
       "  </tbody>\n",
       "</table>\n",
       "</div>"
      ],
      "text/plain": [
       "            _id   count\n",
       "60     Việt Nam  715352\n",
       "85        China  167519\n",
       "93   Trung Quốc  135841\n",
       "48     Nhật Bản   31929\n",
       "3      Hàn Quốc   25836\n",
       "59           Mỹ   22761\n",
       "29     Đài Loan   12499\n",
       "62          Đức   11524\n",
       "26    Hong Kong    9324\n",
       "21     Thái Lan    9018\n",
       "89         Pháp    6129\n",
       "56          Anh    4700\n",
       "78            Ý    4096\n",
       "34      Thụy Sỹ    2978\n",
       "39           Úc    2696\n",
       "55     Malaysia    2451\n",
       "65  Tây Ban Nha    2350\n",
       "1           USA    2192\n",
       "50    Singapore    2183\n",
       "63       Italia    1904"
      ]
     },
     "execution_count": 19,
     "metadata": {},
     "output_type": "execute_result"
    }
   ],
   "source": [
    "data.sort_values(by=['count'], ascending=False).head(20)"
   ]
  },
  {
   "cell_type": "code",
   "execution_count": 20,
   "id": "b560d24d",
   "metadata": {},
   "outputs": [],
   "source": [
    "data_sorted = data.sort_values(by=['count'], ascending=False)"
   ]
  },
  {
   "cell_type": "code",
   "execution_count": 21,
   "id": "72738993",
   "metadata": {},
   "outputs": [],
   "source": [
    "data_bar = data_sorted.head(10)"
   ]
  },
  {
   "cell_type": "code",
   "execution_count": 22,
   "id": "4e90e3c9",
   "metadata": {},
   "outputs": [
    {
     "data": {
      "image/png": "[encoded data removed]",
      "text/plain": [
       "<Figure size 1440x720 with 1 Axes>"
      ]
     },
     "metadata": {
      "needs_background": "light"
     },
     "output_type": "display_data"
    }
   ],
   "source": [
    "Y_axis = np.arange(len(data_bar[\"_id\"]))\n",
    "\n",
    "plt.barh(Y_axis + 0.2, data_bar[\"count\"], 0.4)\n",
    "\n",
    "plt.yticks(Y_axis, data_bar[\"_id\"])\n",
    "plt.xlabel(\"Countries\")\n",
    "plt.ylabel(\"Products\")\n",
    "plt.title(\"Brand Country Products\")\n",
    "plt.ticklabel_format(style='plain', axis='x')\n",
    "plt.show()"
   ]
  },
  {
   "cell_type": "code",
   "execution_count": 28,
   "id": "f9959c75",
   "metadata": {},
   "outputs": [],
   "source": [
    "data_sorted['percent'] = (data_sorted['count'] / data_sorted['count'].sum()) * 100"
   ]
  },
  {
   "cell_type": "code",
   "execution_count": 29,
   "id": "9eebdf33",
   "metadata": {},
   "outputs": [
    {
     "data": {
      "text/html": [
       "<div>\n",
       "<style scoped>\n",
       "    .dataframe tbody tr th:only-of-type {\n",
       "        vertical-align: middle;\n",
       "    }\n",
       "\n",
       "    .dataframe tbody tr th {\n",
       "        vertical-align: top;\n",
       "    }\n",
       "\n",
       "    .dataframe thead th {\n",
       "        text-align: right;\n",
       "    }\n",
       "</style>\n",
       "<table border=\"1\" class=\"dataframe\">\n",
       "  <thead>\n",
       "    <tr style=\"text-align: right;\">\n",
       "      <th></th>\n",
       "      <th>_id</th>\n",
       "      <th>count</th>\n",
       "      <th>percent</th>\n",
       "    </tr>\n",
       "  </thead>\n",
       "  <tbody>\n",
       "    <tr>\n",
       "      <th>60</th>\n",
       "      <td>Việt Nam</td>\n",
       "      <td>715352</td>\n",
       "      <td>59.751489</td>\n",
       "    </tr>\n",
       "    <tr>\n",
       "      <th>85</th>\n",
       "      <td>China</td>\n",
       "      <td>167519</td>\n",
       "      <td>13.992426</td>\n",
       "    </tr>\n",
       "    <tr>\n",
       "      <th>93</th>\n",
       "      <td>Trung Quốc</td>\n",
       "      <td>135841</td>\n",
       "      <td>11.346445</td>\n",
       "    </tr>\n",
       "    <tr>\n",
       "      <th>48</th>\n",
       "      <td>Nhật Bản</td>\n",
       "      <td>31929</td>\n",
       "      <td>2.666946</td>\n",
       "    </tr>\n",
       "    <tr>\n",
       "      <th>3</th>\n",
       "      <td>Hàn Quốc</td>\n",
       "      <td>25836</td>\n",
       "      <td>2.158014</td>\n",
       "    </tr>\n",
       "  </tbody>\n",
       "</table>\n",
       "</div>"
      ],
      "text/plain": [
       "           _id   count    percent\n",
       "60    Việt Nam  715352  59.751489\n",
       "85       China  167519  13.992426\n",
       "93  Trung Quốc  135841  11.346445\n",
       "48    Nhật Bản   31929   2.666946\n",
       "3     Hàn Quốc   25836   2.158014"
      ]
     },
     "execution_count": 29,
     "metadata": {},
     "output_type": "execute_result"
    }
   ],
   "source": [
    "data_sorted.head()"
   ]
  },
  {
   "cell_type": "code",
   "execution_count": 30,
   "id": "a64bcc04",
   "metadata": {},
   "outputs": [],
   "source": [
    "data_pied = data_sorted.head()"
   ]
  },
  {
   "cell_type": "code",
   "execution_count": 31,
   "id": "aca1b0ce",
   "metadata": {},
   "outputs": [
    {
     "data": {
      "image/png": "[encoded data removed]",
      "text/plain": [
       "<Figure size 1440x720 with 1 Axes>"
      ]
     },
     "metadata": {},
     "output_type": "display_data"
    }
   ],
   "source": [
    "plt.pie(data_pied['percent'], labels=data_pied['_id'] , autopct='%1.1f%%', startangle=90)\n",
    "\n",
    "# Set aspect ratio to be equal so that pie is drawn as a circle\n",
    "plt.axis('equal')\n",
    "\n",
    "# Set title\n",
    "plt.title('Pie Chart')\n",
    "\n",
    "# Show the plot\n",
    "plt.show()"
   ]
  },
  {
   "cell_type": "code",
   "execution_count": null,
   "id": "e3c4b1da",
   "metadata": {},
   "outputs": [],
   "source": []
  }
 ],
 "metadata": {
  "kernelspec": {
   "display_name": "Python 3",
   "language": "python",
   "name": "python3"
  },
  "language_info": {
   "codemirror_mode": {
    "name": "ipython",
    "version": 3
   },
   "file_extension": ".py",
   "mimetype": "text/x-python",
   "name": "python",
   "nbconvert_exporter": "python",
   "pygments_lexer": "ipython3",
   "version": "3.8.17"
  }
 },
 "nbformat": 4,
 "nbformat_minor": 5
}
